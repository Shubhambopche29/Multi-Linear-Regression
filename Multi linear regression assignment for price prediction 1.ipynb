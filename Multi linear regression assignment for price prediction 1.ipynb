{
 "cells": [
  {
   "cell_type": "code",
   "execution_count": null,
   "id": "c1fa675a",
   "metadata": {
    "ExecuteTime": {
     "end_time": "2022-12-19T09:29:54.259541Z",
     "start_time": "2022-12-19T09:29:54.259541Z"
    }
   },
   "outputs": [],
   "source": [
    "import pandas as pd\n",
    "import matplotlib.pyplot as plt\n",
    "import seaborn as sns\n",
    "from statsmodels.graphics.regressionplots import influe\n",
    "nce_plot\n",
    "import statsmodels.formula.api as smf\n",
    "import numpy as np"
   ]
  },
  {
   "cell_type": "code",
   "execution_count": 3,
   "id": "2ca6fa48",
   "metadata": {
    "ExecuteTime": {
     "end_time": "2022-12-19T09:29:57.571191Z",
     "start_time": "2022-12-19T09:29:56.847963Z"
    }
   },
   "outputs": [
    {
     "ename": "UnicodeDecodeError",
     "evalue": "'utf-8' codec can't decode byte 0xa0 in position 679: invalid start byte",
     "output_type": "error",
     "traceback": [
      "\u001b[1;31m---------------------------------------------------------------------------\u001b[0m",
      "\u001b[1;31mUnicodeDecodeError\u001b[0m                        Traceback (most recent call last)",
      "Input \u001b[1;32mIn [3]\u001b[0m, in \u001b[0;36m<cell line: 1>\u001b[1;34m()\u001b[0m\n\u001b[1;32m----> 1\u001b[0m corolla \u001b[38;5;241m=\u001b[39m \u001b[43mpd\u001b[49m\u001b[38;5;241;43m.\u001b[39;49m\u001b[43mread_csv\u001b[49m\u001b[43m(\u001b[49m\u001b[38;5;124;43m\"\u001b[39;49m\u001b[38;5;124;43mToyotaCorolla.csv\u001b[39;49m\u001b[38;5;124;43m\"\u001b[39;49m\u001b[43m)\u001b[49m\n",
      "File \u001b[1;32m~\\anaconda3\\lib\\site-packages\\pandas\\util\\_decorators.py:311\u001b[0m, in \u001b[0;36mdeprecate_nonkeyword_arguments.<locals>.decorate.<locals>.wrapper\u001b[1;34m(*args, **kwargs)\u001b[0m\n\u001b[0;32m    305\u001b[0m \u001b[38;5;28;01mif\u001b[39;00m \u001b[38;5;28mlen\u001b[39m(args) \u001b[38;5;241m>\u001b[39m num_allow_args:\n\u001b[0;32m    306\u001b[0m     warnings\u001b[38;5;241m.\u001b[39mwarn(\n\u001b[0;32m    307\u001b[0m         msg\u001b[38;5;241m.\u001b[39mformat(arguments\u001b[38;5;241m=\u001b[39marguments),\n\u001b[0;32m    308\u001b[0m         \u001b[38;5;167;01mFutureWarning\u001b[39;00m,\n\u001b[0;32m    309\u001b[0m         stacklevel\u001b[38;5;241m=\u001b[39mstacklevel,\n\u001b[0;32m    310\u001b[0m     )\n\u001b[1;32m--> 311\u001b[0m \u001b[38;5;28;01mreturn\u001b[39;00m func(\u001b[38;5;241m*\u001b[39margs, \u001b[38;5;241m*\u001b[39m\u001b[38;5;241m*\u001b[39mkwargs)\n",
      "File \u001b[1;32m~\\anaconda3\\lib\\site-packages\\pandas\\io\\parsers\\readers.py:680\u001b[0m, in \u001b[0;36mread_csv\u001b[1;34m(filepath_or_buffer, sep, delimiter, header, names, index_col, usecols, squeeze, prefix, mangle_dupe_cols, dtype, engine, converters, true_values, false_values, skipinitialspace, skiprows, skipfooter, nrows, na_values, keep_default_na, na_filter, verbose, skip_blank_lines, parse_dates, infer_datetime_format, keep_date_col, date_parser, dayfirst, cache_dates, iterator, chunksize, compression, thousands, decimal, lineterminator, quotechar, quoting, doublequote, escapechar, comment, encoding, encoding_errors, dialect, error_bad_lines, warn_bad_lines, on_bad_lines, delim_whitespace, low_memory, memory_map, float_precision, storage_options)\u001b[0m\n\u001b[0;32m    665\u001b[0m kwds_defaults \u001b[38;5;241m=\u001b[39m _refine_defaults_read(\n\u001b[0;32m    666\u001b[0m     dialect,\n\u001b[0;32m    667\u001b[0m     delimiter,\n\u001b[1;32m   (...)\u001b[0m\n\u001b[0;32m    676\u001b[0m     defaults\u001b[38;5;241m=\u001b[39m{\u001b[38;5;124m\"\u001b[39m\u001b[38;5;124mdelimiter\u001b[39m\u001b[38;5;124m\"\u001b[39m: \u001b[38;5;124m\"\u001b[39m\u001b[38;5;124m,\u001b[39m\u001b[38;5;124m\"\u001b[39m},\n\u001b[0;32m    677\u001b[0m )\n\u001b[0;32m    678\u001b[0m kwds\u001b[38;5;241m.\u001b[39mupdate(kwds_defaults)\n\u001b[1;32m--> 680\u001b[0m \u001b[38;5;28;01mreturn\u001b[39;00m \u001b[43m_read\u001b[49m\u001b[43m(\u001b[49m\u001b[43mfilepath_or_buffer\u001b[49m\u001b[43m,\u001b[49m\u001b[43m \u001b[49m\u001b[43mkwds\u001b[49m\u001b[43m)\u001b[49m\n",
      "File \u001b[1;32m~\\anaconda3\\lib\\site-packages\\pandas\\io\\parsers\\readers.py:575\u001b[0m, in \u001b[0;36m_read\u001b[1;34m(filepath_or_buffer, kwds)\u001b[0m\n\u001b[0;32m    572\u001b[0m _validate_names(kwds\u001b[38;5;241m.\u001b[39mget(\u001b[38;5;124m\"\u001b[39m\u001b[38;5;124mnames\u001b[39m\u001b[38;5;124m\"\u001b[39m, \u001b[38;5;28;01mNone\u001b[39;00m))\n\u001b[0;32m    574\u001b[0m \u001b[38;5;66;03m# Create the parser.\u001b[39;00m\n\u001b[1;32m--> 575\u001b[0m parser \u001b[38;5;241m=\u001b[39m TextFileReader(filepath_or_buffer, \u001b[38;5;241m*\u001b[39m\u001b[38;5;241m*\u001b[39mkwds)\n\u001b[0;32m    577\u001b[0m \u001b[38;5;28;01mif\u001b[39;00m chunksize \u001b[38;5;129;01mor\u001b[39;00m iterator:\n\u001b[0;32m    578\u001b[0m     \u001b[38;5;28;01mreturn\u001b[39;00m parser\n",
      "File \u001b[1;32m~\\anaconda3\\lib\\site-packages\\pandas\\io\\parsers\\readers.py:933\u001b[0m, in \u001b[0;36mTextFileReader.__init__\u001b[1;34m(self, f, engine, **kwds)\u001b[0m\n\u001b[0;32m    930\u001b[0m     \u001b[38;5;28mself\u001b[39m\u001b[38;5;241m.\u001b[39moptions[\u001b[38;5;124m\"\u001b[39m\u001b[38;5;124mhas_index_names\u001b[39m\u001b[38;5;124m\"\u001b[39m] \u001b[38;5;241m=\u001b[39m kwds[\u001b[38;5;124m\"\u001b[39m\u001b[38;5;124mhas_index_names\u001b[39m\u001b[38;5;124m\"\u001b[39m]\n\u001b[0;32m    932\u001b[0m \u001b[38;5;28mself\u001b[39m\u001b[38;5;241m.\u001b[39mhandles: IOHandles \u001b[38;5;241m|\u001b[39m \u001b[38;5;28;01mNone\u001b[39;00m \u001b[38;5;241m=\u001b[39m \u001b[38;5;28;01mNone\u001b[39;00m\n\u001b[1;32m--> 933\u001b[0m \u001b[38;5;28mself\u001b[39m\u001b[38;5;241m.\u001b[39m_engine \u001b[38;5;241m=\u001b[39m \u001b[38;5;28;43mself\u001b[39;49m\u001b[38;5;241;43m.\u001b[39;49m\u001b[43m_make_engine\u001b[49m\u001b[43m(\u001b[49m\u001b[43mf\u001b[49m\u001b[43m,\u001b[49m\u001b[43m \u001b[49m\u001b[38;5;28;43mself\u001b[39;49m\u001b[38;5;241;43m.\u001b[39;49m\u001b[43mengine\u001b[49m\u001b[43m)\u001b[49m\n",
      "File \u001b[1;32m~\\anaconda3\\lib\\site-packages\\pandas\\io\\parsers\\readers.py:1235\u001b[0m, in \u001b[0;36mTextFileReader._make_engine\u001b[1;34m(self, f, engine)\u001b[0m\n\u001b[0;32m   1232\u001b[0m     \u001b[38;5;28;01mraise\u001b[39;00m \u001b[38;5;167;01mValueError\u001b[39;00m(msg)\n\u001b[0;32m   1234\u001b[0m \u001b[38;5;28;01mtry\u001b[39;00m:\n\u001b[1;32m-> 1235\u001b[0m     \u001b[38;5;28;01mreturn\u001b[39;00m mapping[engine](f, \u001b[38;5;241m*\u001b[39m\u001b[38;5;241m*\u001b[39m\u001b[38;5;28mself\u001b[39m\u001b[38;5;241m.\u001b[39moptions)\n\u001b[0;32m   1236\u001b[0m \u001b[38;5;28;01mexcept\u001b[39;00m \u001b[38;5;167;01mException\u001b[39;00m:\n\u001b[0;32m   1237\u001b[0m     \u001b[38;5;28;01mif\u001b[39;00m \u001b[38;5;28mself\u001b[39m\u001b[38;5;241m.\u001b[39mhandles \u001b[38;5;129;01mis\u001b[39;00m \u001b[38;5;129;01mnot\u001b[39;00m \u001b[38;5;28;01mNone\u001b[39;00m:\n",
      "File \u001b[1;32m~\\anaconda3\\lib\\site-packages\\pandas\\io\\parsers\\c_parser_wrapper.py:75\u001b[0m, in \u001b[0;36mCParserWrapper.__init__\u001b[1;34m(self, src, **kwds)\u001b[0m\n\u001b[0;32m     72\u001b[0m     kwds\u001b[38;5;241m.\u001b[39mpop(key, \u001b[38;5;28;01mNone\u001b[39;00m)\n\u001b[0;32m     74\u001b[0m kwds[\u001b[38;5;124m\"\u001b[39m\u001b[38;5;124mdtype\u001b[39m\u001b[38;5;124m\"\u001b[39m] \u001b[38;5;241m=\u001b[39m ensure_dtype_objs(kwds\u001b[38;5;241m.\u001b[39mget(\u001b[38;5;124m\"\u001b[39m\u001b[38;5;124mdtype\u001b[39m\u001b[38;5;124m\"\u001b[39m, \u001b[38;5;28;01mNone\u001b[39;00m))\n\u001b[1;32m---> 75\u001b[0m \u001b[38;5;28mself\u001b[39m\u001b[38;5;241m.\u001b[39m_reader \u001b[38;5;241m=\u001b[39m parsers\u001b[38;5;241m.\u001b[39mTextReader(src, \u001b[38;5;241m*\u001b[39m\u001b[38;5;241m*\u001b[39mkwds)\n\u001b[0;32m     77\u001b[0m \u001b[38;5;28mself\u001b[39m\u001b[38;5;241m.\u001b[39munnamed_cols \u001b[38;5;241m=\u001b[39m \u001b[38;5;28mself\u001b[39m\u001b[38;5;241m.\u001b[39m_reader\u001b[38;5;241m.\u001b[39munnamed_cols\n\u001b[0;32m     79\u001b[0m \u001b[38;5;66;03m# error: Cannot determine type of 'names'\u001b[39;00m\n",
      "File \u001b[1;32m~\\anaconda3\\lib\\site-packages\\pandas\\_libs\\parsers.pyx:544\u001b[0m, in \u001b[0;36mpandas._libs.parsers.TextReader.__cinit__\u001b[1;34m()\u001b[0m\n",
      "File \u001b[1;32m~\\anaconda3\\lib\\site-packages\\pandas\\_libs\\parsers.pyx:633\u001b[0m, in \u001b[0;36mpandas._libs.parsers.TextReader._get_header\u001b[1;34m()\u001b[0m\n",
      "File \u001b[1;32m~\\anaconda3\\lib\\site-packages\\pandas\\_libs\\parsers.pyx:847\u001b[0m, in \u001b[0;36mpandas._libs.parsers.TextReader._tokenize_rows\u001b[1;34m()\u001b[0m\n",
      "File \u001b[1;32m~\\anaconda3\\lib\\site-packages\\pandas\\_libs\\parsers.pyx:1952\u001b[0m, in \u001b[0;36mpandas._libs.parsers.raise_parser_error\u001b[1;34m()\u001b[0m\n",
      "\u001b[1;31mUnicodeDecodeError\u001b[0m: 'utf-8' codec can't decode byte 0xa0 in position 679: invalid start byte"
     ]
    }
   ],
   "source": [
    "corolla = pd.read_csv(\"ToyotaCorolla.csv\")"
   ]
  },
  {
   "cell_type": "code",
   "execution_count": null,
   "id": "d0f88b04",
   "metadata": {
    "ExecuteTime": {
     "end_time": "2022-12-14T06:32:13.913737Z",
     "start_time": "2022-12-14T06:32:13.913737Z"
    }
   },
   "outputs": [],
   "source": [
    "corolla.head()"
   ]
  },
  {
   "cell_type": "code",
   "execution_count": null,
   "id": "027a4b81",
   "metadata": {
    "ExecuteTime": {
     "end_time": "2022-12-14T06:32:13.918795Z",
     "start_time": "2022-12-14T06:32:13.918795Z"
    }
   },
   "outputs": [],
   "source": [
    "corolla.info()"
   ]
  },
  {
   "cell_type": "code",
   "execution_count": null,
   "id": "0fe61873",
   "metadata": {
    "ExecuteTime": {
     "end_time": "2022-12-14T06:32:13.925492Z",
     "start_time": "2022-12-14T06:32:13.925492Z"
    }
   },
   "outputs": [],
   "source": [
    "corolla.isna().sum()"
   ]
  },
  {
   "cell_type": "code",
   "execution_count": null,
   "id": "c2534193",
   "metadata": {
    "ExecuteTime": {
     "end_time": "2022-12-14T06:32:13.927002Z",
     "start_time": "2022-12-14T06:32:13.927002Z"
    }
   },
   "outputs": [],
   "source": [
    "corolla.corr()"
   ]
  },
  {
   "cell_type": "code",
   "execution_count": null,
   "id": "997def9d",
   "metadata": {
    "ExecuteTime": {
     "end_time": "2022-12-14T06:32:13.948119Z",
     "start_time": "2022-12-14T06:32:13.948119Z"
    }
   },
   "outputs": [],
   "source": [
    "sns.set_style(style='darkgrid')\n",
    "sns.pairplot(corolla)"
   ]
  },
  {
   "cell_type": "code",
   "execution_count": null,
   "id": "097d149d",
   "metadata": {
    "ExecuteTime": {
     "end_time": "2022-12-14T06:32:13.951128Z",
     "start_time": "2022-12-14T06:32:13.951128Z"
    }
   },
   "outputs": [],
   "source": [
    "import statsmodels.formula.api as smf \n",
    "model = smf.ols('Price~Age_08_04+KM+HP+cc+Doors+Gears+Quarterly_Tax+Weight',data=corolla).fit()"
   ]
  },
  {
   "cell_type": "code",
   "execution_count": null,
   "id": "39d575df",
   "metadata": {
    "ExecuteTime": {
     "end_time": "2022-12-14T06:32:13.952572Z",
     "start_time": "2022-12-14T06:32:13.952572Z"
    }
   },
   "outputs": [],
   "source": [
    "model.params"
   ]
  },
  {
   "cell_type": "code",
   "execution_count": null,
   "id": "78fe258d",
   "metadata": {
    "ExecuteTime": {
     "end_time": "2022-12-14T06:32:13.952572Z",
     "start_time": "2022-12-14T06:32:13.952572Z"
    }
   },
   "outputs": [],
   "source": [
    "print(model.tvalues, '\\n', model.pvalues)"
   ]
  },
  {
   "cell_type": "code",
   "execution_count": null,
   "id": "e55bfe40",
   "metadata": {
    "ExecuteTime": {
     "end_time": "2022-12-14T06:32:13.952572Z",
     "start_time": "2022-12-14T06:32:13.952572Z"
    }
   },
   "outputs": [],
   "source": [
    "(model.rsquared,model.rsquared_adj)"
   ]
  },
  {
   "cell_type": "code",
   "execution_count": null,
   "id": "8ac1db94",
   "metadata": {
    "ExecuteTime": {
     "end_time": "2022-12-14T06:32:13.959577Z",
     "start_time": "2022-12-14T06:32:13.959577Z"
    }
   },
   "outputs": [],
   "source": [
    "ml_corolla=smf.ols('Price~cc',data = corolla).fit()\n",
    "print(ml_corolla.tvalues, '\\n', ml_corolla.pvalues)  "
   ]
  },
  {
   "cell_type": "code",
   "execution_count": null,
   "id": "108afff4",
   "metadata": {
    "ExecuteTime": {
     "end_time": "2022-12-14T06:32:13.959577Z",
     "start_time": "2022-12-14T06:32:13.959577Z"
    }
   },
   "outputs": [],
   "source": [
    "ml_corolla=smf.ols('Price~Doors',data = corolla).fit()\n",
    "print(ml_corolla.tvalues, '\\n', ml_corolla.pvalues)"
   ]
  },
  {
   "cell_type": "code",
   "execution_count": null,
   "id": "0a2cc374",
   "metadata": {
    "ExecuteTime": {
     "end_time": "2022-12-14T06:32:13.959577Z",
     "start_time": "2022-12-14T06:32:13.959577Z"
    }
   },
   "outputs": [],
   "source": [
    "ml_corolla=smf.ols('Price~Doors+cc',data = corolla).fit()\n",
    "print(ml_corolla.tvalues, '\\n', ml_corolla.pvalues)"
   ]
  },
  {
   "cell_type": "code",
   "execution_count": null,
   "id": "4dc0e488",
   "metadata": {
    "ExecuteTime": {
     "end_time": "2022-12-14T06:32:13.959577Z",
     "start_time": "2022-12-14T06:32:13.959577Z"
    }
   },
   "outputs": [],
   "source": [
    "rsq_Age_08_04 = smf.ols('Age_08_04~KM+HP+cc+Doors+Gears+Quarterly_Tax+Weight',data=corolla).fit().rsquared  \n",
    "vif_Age_08_04 = 1/(1-rsq_Age_08_04)\n",
    "\n",
    "rsq_KM = smf.ols('KM~Age_08_04+HP+cc+Doors+Gears+Quarterly_Tax+Weight',data=corolla).fit().rsquared  \n",
    "vif_KM = 1/(1-rsq_KM)\n",
    "\n",
    "rsq_HP = smf.ols('HP~KM+Age_08_04+cc+Doors+Gears+Quarterly_Tax+Weight',data=corolla).fit().rsquared  \n",
    "vif_HP = 1/(1-rsq_HP)\n",
    "\n",
    "rsq_cc = smf.ols('cc~KM+HP+Age_08_04+Doors+Gears+Quarterly_Tax+Weight',data=corolla).fit().rsquared  \n",
    "vif_cc = 1/(1-rsq_cc)\n",
    "\n",
    "rsq_Doors = smf.ols('Doors~KM+HP+cc+Age_08_04+Gears+Quarterly_Tax+Weight',data=corolla).fit().rsquared  \n",
    "vif_Doors = 1/(1-rsq_Doors)\n",
    "\n",
    "rsq_Gears = smf.ols('Gears~KM+HP+cc+Doors+Age_08_04+Quarterly_Tax+Weight',data=corolla).fit().rsquared  \n",
    "vif_Gears = 1/(1-rsq_Gears)\n",
    "\n",
    "rsq_Quarterly_Tax = smf.ols('Quarterly_Tax~KM+HP+cc+Doors+Gears+Age_08_04+Weight',data=corolla).fit().rsquared  \n",
    "vif_Quarterly_Tax = 1/(1-rsq_Quarterly_Tax)\n",
    "\n",
    "rsq_Weight = smf.ols('Weight~KM+HP+cc+Doors+Gears+Quarterly_Tax+Age_08_04',data=corolla).fit().rsquared  \n",
    "vif_Weight = 1/(1-rsq_Weight)\n",
    "\n",
    "d1 = {'Variables':['Age_08_04','KM','HP','cc','Doors','Gears','Quarterly_Tax','Weight'],'VIF':[vif_Age_08_04,vif_KM,vif_HP,vif_cc,vif_Doors,vif_Gears,vif_Quarterly_Tax,vif_Weight]}\n",
    "Vif_frame = pd.DataFrame(d1)  \n",
    "Vif_frame"
   ]
  },
  {
   "cell_type": "code",
   "execution_count": null,
   "id": "5258d996",
   "metadata": {
    "ExecuteTime": {
     "end_time": "2022-12-14T06:32:13.967734Z",
     "start_time": "2022-12-14T06:32:13.967734Z"
    }
   },
   "outputs": [],
   "source": [
    "import statsmodels.api as sm\n",
    "qqplot=sm.qqplot(model.resid,line='q')\n",
    "plt.title(\"Normal Q-Q plot of residuals\")\n",
    "plt.show()"
   ]
  },
  {
   "cell_type": "code",
   "execution_count": null,
   "id": "7f5c409f",
   "metadata": {
    "ExecuteTime": {
     "end_time": "2022-12-14T06:32:13.968663Z",
     "start_time": "2022-12-14T06:32:13.968663Z"
    }
   },
   "outputs": [],
   "source": [
    "list(np.where(model.resid<-4000))"
   ]
  },
  {
   "cell_type": "code",
   "execution_count": null,
   "id": "0ae4a086",
   "metadata": {
    "ExecuteTime": {
     "end_time": "2022-12-14T06:32:13.968663Z",
     "start_time": "2022-12-14T06:32:13.968663Z"
    }
   },
   "outputs": [],
   "source": [
    "list(np.where(model.resid>4000))"
   ]
  },
  {
   "cell_type": "code",
   "execution_count": null,
   "id": "00cbeb6f",
   "metadata": {
    "ExecuteTime": {
     "end_time": "2022-12-14T06:32:13.968663Z",
     "start_time": "2022-12-14T06:32:13.968663Z"
    }
   },
   "outputs": [],
   "source": [
    "def get_standardized_values( vals ):\n",
    "    return (vals - vals.mean())/vals.std()"
   ]
  },
  {
   "cell_type": "code",
   "execution_count": null,
   "id": "f16e91ba",
   "metadata": {
    "ExecuteTime": {
     "end_time": "2022-12-14T06:32:13.968663Z",
     "start_time": "2022-12-14T06:32:13.968663Z"
    }
   },
   "outputs": [],
   "source": [
    "plt.scatter(get_standardized_values(model.fittedvalues),\n",
    "            get_standardized_values(model.resid))\n",
    "\n",
    "plt.title('Residual Plot')\n",
    "plt.xlabel('Standardized Fitted values')\n",
    "plt.ylabel('Standardized residual values')\n",
    "plt.show()"
   ]
  },
  {
   "cell_type": "code",
   "execution_count": null,
   "id": "1a2a66f1",
   "metadata": {
    "ExecuteTime": {
     "end_time": "2022-12-14T06:32:13.976169Z",
     "start_time": "2022-12-14T06:32:13.968663Z"
    }
   },
   "outputs": [],
   "source": [
    "fig = plt.figure(figsize=(15,8))\n",
    "fig = sm.graphics.plot_regress_exog(model, \"Age_08_04\", fig=fig)\n",
    "plt.show()"
   ]
  },
  {
   "cell_type": "code",
   "execution_count": null,
   "id": "2ba733f2",
   "metadata": {
    "ExecuteTime": {
     "end_time": "2022-12-14T06:32:13.976169Z",
     "start_time": "2022-12-14T06:32:13.976169Z"
    }
   },
   "outputs": [],
   "source": [
    "fig = plt.figure(figsize=(15,8))\n",
    "fig = sm.graphics.plot_regress_exog(model, \"KM\", fig=fig)\n",
    "plt.show()"
   ]
  },
  {
   "cell_type": "code",
   "execution_count": null,
   "id": "267b1396",
   "metadata": {
    "ExecuteTime": {
     "end_time": "2022-12-14T06:32:13.976169Z",
     "start_time": "2022-12-14T06:32:13.976169Z"
    }
   },
   "outputs": [],
   "source": [
    "fig = plt.figure(figsize=(15,8))\n",
    "fig = sm.graphics.plot_regress_exog(model, \"HP\", fig=fig)\n",
    "plt.show()"
   ]
  },
  {
   "cell_type": "code",
   "execution_count": null,
   "id": "e6c2a802",
   "metadata": {
    "ExecuteTime": {
     "end_time": "2022-12-14T06:32:13.976169Z",
     "start_time": "2022-12-14T06:32:13.976169Z"
    }
   },
   "outputs": [],
   "source": [
    "fig = plt.figure(figsize=(15,8))\n",
    "fig = sm.graphics.plot_regress_exog(model, \"cc\", fig=fig)\n",
    "plt.show()"
   ]
  },
  {
   "cell_type": "code",
   "execution_count": null,
   "id": "b7f6e8f0",
   "metadata": {
    "ExecuteTime": {
     "end_time": "2022-12-14T06:32:13.984171Z",
     "start_time": "2022-12-14T06:32:13.984171Z"
    }
   },
   "outputs": [],
   "source": [
    "fig = plt.figure(figsize=(15,8))\n",
    "fig = sm.graphics.plot_regress_exog(model, \"Doors\", fig=fig)\n",
    "plt.show()"
   ]
  },
  {
   "cell_type": "code",
   "execution_count": null,
   "id": "5936a392",
   "metadata": {
    "ExecuteTime": {
     "end_time": "2022-12-14T06:32:13.984171Z",
     "start_time": "2022-12-14T06:32:13.984171Z"
    }
   },
   "outputs": [],
   "source": [
    "fig = plt.figure(figsize=(15,8))\n",
    "fig = sm.graphics.plot_regress_exog(model, \"Gears\", fig=fig)\n",
    "plt.show()"
   ]
  },
  {
   "cell_type": "code",
   "execution_count": null,
   "id": "f7ac7089",
   "metadata": {
    "ExecuteTime": {
     "end_time": "2022-12-14T06:32:13.986925Z",
     "start_time": "2022-12-14T06:32:13.986925Z"
    }
   },
   "outputs": [],
   "source": [
    "fig = plt.figure(figsize=(15,8))\n",
    "fig = sm.graphics.plot_regress_exog(model, \"Quarterly_Tax\", fig=fig)\n",
    "plt.show()"
   ]
  },
  {
   "cell_type": "code",
   "execution_count": null,
   "id": "62dfa92f",
   "metadata": {
    "ExecuteTime": {
     "end_time": "2022-12-14T06:32:13.986925Z",
     "start_time": "2022-12-14T06:32:13.986925Z"
    }
   },
   "outputs": [],
   "source": [
    "fig = plt.figure(figsize=(15,8))\n",
    "fig = sm.graphics.plot_regress_exog(model, \"Weight\", fig=fig)\n",
    "plt.show()"
   ]
  },
  {
   "cell_type": "code",
   "execution_count": null,
   "id": "7b5f24f2",
   "metadata": {
    "ExecuteTime": {
     "end_time": "2022-12-14T06:32:13.986925Z",
     "start_time": "2022-12-14T06:32:13.986925Z"
    }
   },
   "outputs": [],
   "source": [
    "model_influence = model.get_influence()\n",
    "(c, _) = model_influence.cooks_distance"
   ]
  },
  {
   "cell_type": "code",
   "execution_count": null,
   "id": "2b5a2ecc",
   "metadata": {
    "ExecuteTime": {
     "end_time": "2022-12-14T06:32:13.990234Z",
     "start_time": "2022-12-14T06:32:13.990234Z"
    }
   },
   "outputs": [],
   "source": [
    "fig = plt.subplots(figsize=(20, 7))\n",
    "plt.stem(np.arange(len(corolla)), np.round(c, 3))\n",
    "plt.xlabel('Row index')\n",
    "plt.ylabel('Cooks Distance')\n",
    "plt.show()"
   ]
  },
  {
   "cell_type": "code",
   "execution_count": null,
   "id": "ff996ad0",
   "metadata": {
    "ExecuteTime": {
     "end_time": "2022-12-14T06:32:13.990234Z",
     "start_time": "2022-12-14T06:32:13.990234Z"
    }
   },
   "outputs": [],
   "source": [
    "(np.argmax(c),np.max(c))"
   ]
  },
  {
   "cell_type": "code",
   "execution_count": null,
   "id": "dd5618c0",
   "metadata": {
    "ExecuteTime": {
     "end_time": "2022-12-14T06:32:13.992624Z",
     "start_time": "2022-12-14T06:32:13.992624Z"
    }
   },
   "outputs": [],
   "source": [
    "from statsmodels.graphics.regressionplots import influence_plot\n",
    "influence_plot(model)\n",
    "plt.show()"
   ]
  },
  {
   "cell_type": "code",
   "execution_count": null,
   "id": "d00e64e2",
   "metadata": {
    "ExecuteTime": {
     "end_time": "2022-12-14T06:32:13.994042Z",
     "start_time": "2022-12-14T06:32:13.994042Z"
    }
   },
   "outputs": [],
   "source": [
    "k = 8\n",
    "n = corolla.shape[0]\n",
    "leverage_cutoff = 3*((k + 1)/n)\n",
    "leverage_cutoff "
   ]
  },
  {
   "cell_type": "code",
   "execution_count": null,
   "id": "8d568afa",
   "metadata": {
    "ExecuteTime": {
     "end_time": "2022-12-14T06:32:13.994042Z",
     "start_time": "2022-12-14T06:32:13.994042Z"
    }
   },
   "outputs": [],
   "source": [
    "corolla[corolla.index.isin([80])]"
   ]
  },
  {
   "cell_type": "code",
   "execution_count": null,
   "id": "ff14e91e",
   "metadata": {
    "ExecuteTime": {
     "end_time": "2022-12-14T06:32:13.998200Z",
     "start_time": "2022-12-14T06:32:13.998200Z"
    }
   },
   "outputs": [],
   "source": [
    "corolla.head()"
   ]
  },
  {
   "cell_type": "code",
   "execution_count": null,
   "id": "76126788",
   "metadata": {
    "ExecuteTime": {
     "end_time": "2022-12-14T06:32:14.000840Z",
     "start_time": "2022-12-14T06:32:14.000840Z"
    }
   },
   "outputs": [],
   "source": [
    "corolla_new = pd.read_csv(\"ToyotaCorolla.csv\")"
   ]
  },
  {
   "cell_type": "code",
   "execution_count": null,
   "id": "cb3f9988",
   "metadata": {
    "ExecuteTime": {
     "end_time": "2022-12-14T06:32:14.001344Z",
     "start_time": "2022-12-14T06:32:14.001344Z"
    }
   },
   "outputs": [],
   "source": [
    "corolla1=corolla_new.drop(corolla_new.index[[80,]],axis=0).reset_index()"
   ]
  },
  {
   "cell_type": "code",
   "execution_count": null,
   "id": "f8e95132",
   "metadata": {
    "ExecuteTime": {
     "end_time": "2022-12-14T06:32:14.001344Z",
     "start_time": "2022-12-14T06:32:14.001344Z"
    }
   },
   "outputs": [],
   "source": [
    "corolla1=corolla1.drop(['index'],axis=1)"
   ]
  },
  {
   "cell_type": "code",
   "execution_count": null,
   "id": "dcd194f9",
   "metadata": {
    "ExecuteTime": {
     "end_time": "2022-12-14T06:32:14.001344Z",
     "start_time": "2022-12-14T06:32:14.001344Z"
    }
   },
   "outputs": [],
   "source": [
    "corolla1"
   ]
  },
  {
   "cell_type": "code",
   "execution_count": null,
   "id": "1589e312",
   "metadata": {
    "ExecuteTime": {
     "end_time": "2022-12-14T06:32:14.001344Z",
     "start_time": "2022-12-14T06:32:14.001344Z"
    }
   },
   "outputs": [],
   "source": [
    "new_corolla= smf.ols('Price~Age_08_04+KM+HP+cc+Doors+Gears+Quarterly_Tax+Weight',data = corolla1).fit()"
   ]
  },
  {
   "cell_type": "code",
   "execution_count": null,
   "id": "67b87371",
   "metadata": {
    "ExecuteTime": {
     "end_time": "2022-12-14T06:32:14.007716Z",
     "start_time": "2022-12-14T06:32:14.007716Z"
    }
   },
   "outputs": [],
   "source": [
    "model_influence_V = new_corolla.get_influence()\n",
    "(c_V, _) = model_influence_V.cooks_distance"
   ]
  },
  {
   "cell_type": "code",
   "execution_count": null,
   "id": "9bc96007",
   "metadata": {
    "ExecuteTime": {
     "end_time": "2022-12-14T06:32:14.008722Z",
     "start_time": "2022-12-14T06:32:14.008722Z"
    }
   },
   "outputs": [],
   "source": [
    "fig= plt.subplots(figsize=(20,7))\n",
    "plt.stem(np.arange(len(corolla1)),np.round(c_V,3));\n",
    "plt.xlabel('Row index')\n",
    "plt.ylabel('Cooks Distance');"
   ]
  },
  {
   "cell_type": "code",
   "execution_count": null,
   "id": "cc4eca6f",
   "metadata": {
    "ExecuteTime": {
     "end_time": "2022-12-14T06:32:14.008722Z",
     "start_time": "2022-12-14T06:32:14.008722Z"
    }
   },
   "outputs": [],
   "source": [
    "(np.argmax(c_V),np.max(c_V))"
   ]
  },
  {
   "cell_type": "code",
   "execution_count": null,
   "id": "1f79ea7e",
   "metadata": {
    "ExecuteTime": {
     "end_time": "2022-12-14T06:32:14.008722Z",
     "start_time": "2022-12-14T06:32:14.008722Z"
    }
   },
   "outputs": [],
   "source": [
    "corolla2=corolla1.drop(corolla1.index[[220]],axis=0)\n",
    "corolla2"
   ]
  },
  {
   "cell_type": "code",
   "execution_count": null,
   "id": "56cfa8c4",
   "metadata": {
    "ExecuteTime": {
     "end_time": "2022-12-14T06:32:14.008722Z",
     "start_time": "2022-12-14T06:32:14.008722Z"
    }
   },
   "outputs": [],
   "source": [
    "corolla3=corolla2.reset_index()\n",
    "corolla3"
   ]
  },
  {
   "cell_type": "code",
   "execution_count": null,
   "id": "1cf6e96e",
   "metadata": {
    "ExecuteTime": {
     "end_time": "2022-12-14T06:32:14.014707Z",
     "start_time": "2022-12-14T06:32:14.014707Z"
    }
   },
   "outputs": [],
   "source": [
    "corolla4=corolla3.drop(['index'],axis=1)\n",
    "corolla4"
   ]
  },
  {
   "cell_type": "code",
   "execution_count": null,
   "id": "8e66f28f",
   "metadata": {
    "ExecuteTime": {
     "end_time": "2022-12-14T06:32:14.015214Z",
     "start_time": "2022-12-14T06:32:14.015214Z"
    }
   },
   "outputs": [],
   "source": [
    "new_corolla1= smf.ols('Price~Age_08_04+KM+HP+cc+Doors+Gears+Quarterly_Tax+Weight',data = corolla4).fit()"
   ]
  },
  {
   "cell_type": "code",
   "execution_count": null,
   "id": "22d96297",
   "metadata": {
    "ExecuteTime": {
     "end_time": "2022-12-14T06:32:14.016888Z",
     "start_time": "2022-12-14T06:32:14.016888Z"
    }
   },
   "outputs": [],
   "source": [
    "model_influence_V = new_corolla1.get_influence()\n",
    "(c_V, _) = model_influence_V.cooks_distance"
   ]
  },
  {
   "cell_type": "code",
   "execution_count": null,
   "id": "04d2a191",
   "metadata": {
    "ExecuteTime": {
     "end_time": "2022-12-14T06:32:14.017535Z",
     "start_time": "2022-12-14T06:32:14.017535Z"
    }
   },
   "outputs": [],
   "source": [
    "fig= plt.subplots(figsize=(20,7))\n",
    "plt.stem(np.arange(len(corolla4)),np.round(c_V,3));\n",
    "plt.xlabel('Row index')\n",
    "plt.ylabel('Cooks Distance');"
   ]
  },
  {
   "cell_type": "code",
   "execution_count": null,
   "id": "ade45b39",
   "metadata": {
    "ExecuteTime": {
     "end_time": "2022-12-14T06:32:14.019768Z",
     "start_time": "2022-12-14T06:32:14.019768Z"
    }
   },
   "outputs": [],
   "source": [
    "(np.argmax(c_V),np.max(c_V))"
   ]
  },
  {
   "cell_type": "code",
   "execution_count": null,
   "id": "0afa03f7",
   "metadata": {
    "ExecuteTime": {
     "end_time": "2022-12-14T06:32:14.019768Z",
     "start_time": "2022-12-14T06:32:14.019768Z"
    }
   },
   "outputs": [],
   "source": [
    "corolla5=corolla4.drop(corolla4.index[[220]],axis=0)\n",
    "corolla5"
   ]
  },
  {
   "cell_type": "code",
   "execution_count": null,
   "id": "82caa6db",
   "metadata": {
    "ExecuteTime": {
     "end_time": "2022-12-14T06:32:14.022814Z",
     "start_time": "2022-12-14T06:32:14.022814Z"
    }
   },
   "outputs": [],
   "source": [
    "corolla6=corolla5.reset_index()\n",
    "corolla6"
   ]
  },
  {
   "cell_type": "code",
   "execution_count": null,
   "id": "c7da3437",
   "metadata": {
    "ExecuteTime": {
     "end_time": "2022-12-14T06:32:14.024032Z",
     "start_time": "2022-12-14T06:32:14.024032Z"
    }
   },
   "outputs": [],
   "source": [
    "corolla7=corolla6.drop(['index'],axis=1)\n",
    "corolla7"
   ]
  },
  {
   "cell_type": "code",
   "execution_count": null,
   "id": "78bec127",
   "metadata": {
    "ExecuteTime": {
     "end_time": "2022-12-14T06:32:14.025222Z",
     "start_time": "2022-12-14T06:32:14.025222Z"
    }
   },
   "outputs": [],
   "source": [
    "new_corolla2= smf.ols('Price~Age_08_04+KM+HP+cc+Doors+Gears+Quarterly_Tax+Weight',data = corolla7).fit()"
   ]
  },
  {
   "cell_type": "code",
   "execution_count": null,
   "id": "29add08e",
   "metadata": {
    "ExecuteTime": {
     "end_time": "2022-12-14T06:32:14.026207Z",
     "start_time": "2022-12-14T06:32:14.026207Z"
    }
   },
   "outputs": [],
   "source": [
    "model_influence_V = new_corolla2.get_influence()\n",
    "(c_V, _) = model_influence_V.cooks_distance"
   ]
  },
  {
   "cell_type": "code",
   "execution_count": null,
   "id": "4ee1f215",
   "metadata": {
    "ExecuteTime": {
     "end_time": "2022-12-14T06:32:14.027659Z",
     "start_time": "2022-12-14T06:32:14.027659Z"
    }
   },
   "outputs": [],
   "source": [
    "fig= plt.subplots(figsize=(20,7))\n",
    "plt.stem(np.arange(len(corolla7)),np.round(c_V,3));\n",
    "plt.xlabel('Row index')\n",
    "plt.ylabel('Cooks Distance');"
   ]
  },
  {
   "cell_type": "code",
   "execution_count": null,
   "id": "06e70cb4",
   "metadata": {
    "ExecuteTime": {
     "end_time": "2022-12-14T06:32:14.027659Z",
     "start_time": "2022-12-14T06:32:14.027659Z"
    }
   },
   "outputs": [],
   "source": [
    "(np.argmax(c_V),np.max(c_V))"
   ]
  },
  {
   "cell_type": "code",
   "execution_count": null,
   "id": "d6670a82",
   "metadata": {
    "ExecuteTime": {
     "end_time": "2022-12-14T06:32:14.027659Z",
     "start_time": "2022-12-14T06:32:14.027659Z"
    }
   },
   "outputs": [],
   "source": [
    "corolla8=corolla7.drop(corolla7.index[[957]],axis=0)\n",
    "corolla8"
   ]
  },
  {
   "cell_type": "code",
   "execution_count": null,
   "id": "8e66fa7e",
   "metadata": {
    "ExecuteTime": {
     "end_time": "2022-12-14T06:32:14.031515Z",
     "start_time": "2022-12-14T06:32:14.031515Z"
    }
   },
   "outputs": [],
   "source": [
    "corolla9=corolla8.reset_index()\n",
    "corolla9"
   ]
  },
  {
   "cell_type": "code",
   "execution_count": null,
   "id": "30178c40",
   "metadata": {
    "ExecuteTime": {
     "end_time": "2022-12-14T06:32:14.033520Z",
     "start_time": "2022-12-14T06:32:14.033520Z"
    }
   },
   "outputs": [],
   "source": [
    "corolla10=corolla9.drop(['index'],axis=1)\n",
    "corolla10"
   ]
  },
  {
   "cell_type": "code",
   "execution_count": null,
   "id": "430bdb22",
   "metadata": {
    "ExecuteTime": {
     "end_time": "2022-12-14T06:32:14.033520Z",
     "start_time": "2022-12-14T06:32:14.033520Z"
    }
   },
   "outputs": [],
   "source": [
    "new_corolla3= smf.ols('Price~Age_08_04+KM+HP+cc+Doors+Gears+Quarterly_Tax+Weight',data = corolla10).fit()"
   ]
  },
  {
   "cell_type": "code",
   "execution_count": null,
   "id": "f94ebaa9",
   "metadata": {
    "ExecuteTime": {
     "end_time": "2022-12-14T06:32:14.033520Z",
     "start_time": "2022-12-14T06:32:14.033520Z"
    }
   },
   "outputs": [],
   "source": [
    "model_influence_V = new_corolla3.get_influence()\n",
    "(c_V, _) = model_influence_V.cooks_distance"
   ]
  },
  {
   "cell_type": "code",
   "execution_count": null,
   "id": "3ec64bac",
   "metadata": {
    "ExecuteTime": {
     "end_time": "2022-12-14T06:32:14.041522Z",
     "start_time": "2022-12-14T06:32:14.041522Z"
    }
   },
   "outputs": [],
   "source": [
    "fig= plt.subplots(figsize=(20,7))\n",
    "plt.stem(np.arange(len(corolla10)),np.round(c_V,3));\n",
    "plt.xlabel('Row index')\n",
    "plt.ylabel('Cooks Distance');"
   ]
  },
  {
   "cell_type": "code",
   "execution_count": null,
   "id": "0c09f55f",
   "metadata": {
    "ExecuteTime": {
     "end_time": "2022-12-14T06:32:14.041522Z",
     "start_time": "2022-12-14T06:32:14.041522Z"
    }
   },
   "outputs": [],
   "source": [
    "(np.argmax(c_V),np.max(c_V))"
   ]
  },
  {
   "cell_type": "code",
   "execution_count": null,
   "id": "7429ba34",
   "metadata": {
    "ExecuteTime": {
     "end_time": "2022-12-14T06:32:14.041522Z",
     "start_time": "2022-12-14T06:32:14.041522Z"
    }
   },
   "outputs": [],
   "source": [
    "corolla11=corolla10.drop(corolla10.index[[598]],axis=0)\n",
    "corolla11"
   ]
  },
  {
   "cell_type": "code",
   "execution_count": null,
   "id": "d1162c44",
   "metadata": {
    "ExecuteTime": {
     "end_time": "2022-12-14T06:32:14.041522Z",
     "start_time": "2022-12-14T06:32:14.041522Z"
    }
   },
   "outputs": [],
   "source": [
    "corolla12=corolla11.reset_index()\n",
    "corolla12"
   ]
  },
  {
   "cell_type": "code",
   "execution_count": null,
   "id": "d584877f",
   "metadata": {
    "ExecuteTime": {
     "end_time": "2022-12-14T06:32:14.041522Z",
     "start_time": "2022-12-14T06:32:14.041522Z"
    }
   },
   "outputs": [],
   "source": [
    "corolla13=corolla12.drop(['index'],axis=1)\n",
    "corolla13"
   ]
  },
  {
   "cell_type": "code",
   "execution_count": null,
   "id": "afa3ecf8",
   "metadata": {
    "ExecuteTime": {
     "end_time": "2022-12-14T06:32:14.041522Z",
     "start_time": "2022-12-14T06:32:14.041522Z"
    }
   },
   "outputs": [],
   "source": [
    "new_corolla4= smf.ols('Price~Age_08_04+KM+HP+cc+Doors+Gears+Quarterly_Tax+Weight',data = corolla13).fit()"
   ]
  },
  {
   "cell_type": "code",
   "execution_count": null,
   "id": "f318d91e",
   "metadata": {
    "ExecuteTime": {
     "end_time": "2022-12-14T06:32:14.041522Z",
     "start_time": "2022-12-14T06:32:14.041522Z"
    }
   },
   "outputs": [],
   "source": [
    "model_influence_V = new_corolla4.get_influence()\n",
    "(c_V, _) = model_influence_V.cooks_distance"
   ]
  },
  {
   "cell_type": "code",
   "execution_count": null,
   "id": "cc9a2307",
   "metadata": {
    "ExecuteTime": {
     "end_time": "2022-12-14T06:32:14.051197Z",
     "start_time": "2022-12-14T06:32:14.051197Z"
    }
   },
   "outputs": [],
   "source": [
    "fig= plt.subplots(figsize=(20,7))\n",
    "plt.stem(np.arange(len(corolla13)),np.round(c_V,3));\n",
    "plt.xlabel('Row index')\n",
    "plt.ylabel('Cooks Distance');"
   ]
  },
  {
   "cell_type": "code",
   "execution_count": null,
   "id": "43bc0fe3",
   "metadata": {
    "ExecuteTime": {
     "end_time": "2022-12-14T06:32:14.051719Z",
     "start_time": "2022-12-14T06:32:14.051719Z"
    }
   },
   "outputs": [],
   "source": [
    "(np.argmax(c_V),np.max(c_V))"
   ]
  },
  {
   "cell_type": "code",
   "execution_count": null,
   "id": "58434bfd",
   "metadata": {
    "ExecuteTime": {
     "end_time": "2022-12-14T06:32:14.054233Z",
     "start_time": "2022-12-14T06:32:14.054233Z"
    }
   },
   "outputs": [],
   "source": [
    "price_pred=pd.DataFrame({'Age_08_04':35,'KM':50000,'HP':200,'cc':2200,'Doors':5,'Gears':6,'Quarterly_Tax':250,'Weight':2000},index=[1])"
   ]
  },
  {
   "cell_type": "code",
   "execution_count": null,
   "id": "96296f48",
   "metadata": {
    "ExecuteTime": {
     "end_time": "2022-12-14T06:32:14.056075Z",
     "start_time": "2022-12-14T06:32:14.056075Z"
    }
   },
   "outputs": [],
   "source": [
    "new_corolla4.predict(price_pred)"
   ]
  }
 ],
 "metadata": {
  "kernelspec": {
   "display_name": "Python 3 (ipykernel)",
   "language": "python",
   "name": "python3"
  },
  "language_info": {
   "codemirror_mode": {
    "name": "ipython",
    "version": 3
   },
   "file_extension": ".py",
   "mimetype": "text/x-python",
   "name": "python",
   "nbconvert_exporter": "python",
   "pygments_lexer": "ipython3",
   "version": "3.9.12"
  }
 },
 "nbformat": 4,
 "nbformat_minor": 5
}
